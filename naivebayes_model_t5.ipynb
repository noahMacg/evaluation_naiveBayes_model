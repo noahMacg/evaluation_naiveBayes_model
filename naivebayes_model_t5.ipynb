{
 "cells": [
  {
   "cell_type": "markdown",
   "id": "fd575eaa",
   "metadata": {},
   "source": [
    "# Model Evaluation of a Naive Bayes Classification Model\n",
    "Noah MacGillivray | BIT-446 Assignment(T5) | Summer 2025  \n",
    "**Environment:** Ubuntu, VS Code"
   ]
  },
  {
   "cell_type": "markdown",
   "id": "d88f2862",
   "metadata": {},
   "source": [
    "## Imports "
   ]
  },
  {
   "cell_type": "code",
   "execution_count": 4,
   "id": "26f03241",
   "metadata": {},
   "outputs": [],
   "source": [
    "import pandas as pd\n",
    "import numpy as np\n",
    "import openpyxl\n",
    "import os \n",
    "import matplotlib as plt \n",
    "from sklearn.naive_bayes import GaussianNB, MultinomialNB, BernoulliNB\n",
    "from sklearn.model_selection import train_test_split\n",
    "from sklearn.metrics import (accuracy_score, classification_report, confusion_matrix, \n",
    "                            ConfusionMatrixDisplay)\n",
    "import matplotlib.pyplot as plt\n"
   ]
  },
  {
   "cell_type": "markdown",
   "id": "e0f1e7c0",
   "metadata": {},
   "source": [
    "## Data Import\n",
    "Displays the data frame info, head and tail to ensure proper import "
   ]
  },
  {
   "cell_type": "code",
   "execution_count": 5,
   "id": "70d6cd1e",
   "metadata": {},
   "outputs": [
    {
     "name": "stdout",
     "output_type": "stream",
     "text": [
      "<class 'pandas.core.frame.DataFrame'>\n",
      "RangeIndex: 300 entries, 0 to 299\n",
      "Data columns (total 5 columns):\n",
      " #   Column                   Non-Null Count  Dtype\n",
      "---  ------                   --------------  -----\n",
      " 0   record                   300 non-null    int64\n",
      " 1   hours_run                300 non-null    int64\n",
      " 2   avg_hours_between_maint  300 non-null    int64\n",
      " 3   model_version            300 non-null    int64\n",
      " 4   failure                  300 non-null    int64\n",
      "dtypes: int64(5)\n",
      "memory usage: 11.8 KB\n",
      "\n",
      "    record  hours_run  avg_hours_between_maint  model_version  failure\n",
      "0       1       1005                      382              3        0\n",
      "1       2       1023                      380              1        0\n",
      "2       3       1057                      319              1        0\n",
      "3       4       1063                      566              3        0\n",
      "4       5       1150                      767              1        0\n",
      "\n",
      "      record  hours_run  avg_hours_between_maint  model_version  failure\n",
      "295     296       9808                     1925              2        0\n",
      "296     297       9823                     1887              2        0\n",
      "297     298       9870                     1510              2        0\n",
      "298     299       9978                     1782              3        0\n",
      "299     300       9985                     1402              2        0\n"
     ]
    }
   ],
   "source": [
    "# read first 100 rows\n",
    "failure_rate = pd.read_excel('BIT-446-RS-T4-T5-FailureRate.xlsx', nrows=300)  \n",
    "\n",
    "# display df info\n",
    "failure_rate.info()\n",
    "\n",
    "# print head\n",
    "print(\"\\n\", failure_rate.head())\n",
    "\n",
    "# print tail\n",
    "print(\"\\n\", failure_rate.tail())\n",
    "\n"
   ]
  },
  {
   "cell_type": "markdown",
   "id": "f1991b38",
   "metadata": {},
   "source": [
    "## Define dataset"
   ]
  },
  {
   "cell_type": "code",
   "execution_count": 6,
   "id": "16df012b",
   "metadata": {},
   "outputs": [
    {
     "name": "stdout",
     "output_type": "stream",
     "text": [
      "              precision    recall  f1-score   support\n",
      "\n",
      "           0       0.82      1.00      0.90        69\n",
      "           1       1.00      0.29      0.44        21\n",
      "\n",
      "    accuracy                           0.83        90\n",
      "   macro avg       0.91      0.64      0.67        90\n",
      "weighted avg       0.86      0.83      0.80        90\n",
      "\n",
      "\n",
      "Confusion Matrix:\n",
      "[[69  0]\n",
      " [15  6]]\n"
     ]
    },
    {
     "data": {
      "image/png": "[encoded data removed]",
      "text/plain": [
       "<Figure size 640x480 with 2 Axes>"
      ]
     },
     "metadata": {},
     "output_type": "display_data"
    }
   ],
   "source": [
    "feature_columns = ['hours_run', 'avg_hours_between_maint', 'model_version']\n",
    "x = failure_rate[feature_columns]   #Features\n",
    "y = failure_rate.failure            #Target variable\n",
    "\n",
    "x_train, x_test, y_train, y_test = train_test_split(x, y, test_size=0.30, random_state=10)\n",
    "\n",
    "# Create Gaussian classifier \n",
    "naive_clf = GaussianNB()\n",
    "\n",
    "# Train the model\n",
    "naive_clf.fit(x_train, y_train)\n",
    "\n",
    "# Variable to hold the predictions for the model based on x_test\n",
    "y_pred = naive_clf.predict(x_test)\n",
    "\n",
    "# Generate the report\n",
    "report = classification_report(y_test, y_pred)\n",
    "print(report)\n",
    "\n",
    "# Create confusion matrix\n",
    "cm = confusion_matrix(y_test, y_pred)\n",
    "print(\"\\nConfusion Matrix:\")\n",
    "print(cm)\n",
    "\n",
    "labels = [\"No Failure\", \"Failure\"]\n",
    "# Use ConfusionMatrixDisplay for visualization\n",
    "disp = ConfusionMatrixDisplay(confusion_matrix=cm, \n",
    "                              display_labels=labels)\n",
    "disp.plot(cmap='Blues')\n",
    "plt.title('Confusion Matrix - Naive Bayes Classifier')\n",
    "plt.show()"
   ]
  }
 ],
 "metadata": {
  "kernelspec": {
   "display_name": "Python 3",
   "language": "python",
   "name": "python3"
  },
  "language_info": {
   "codemirror_mode": {
    "name": "ipython",
    "version": 3
   },
   "file_extension": ".py",
   "mimetype": "text/x-python",
   "name": "python",
   "nbconvert_exporter": "python",
   "pygments_lexer": "ipython3",
   "version": "3.10.12"
  }
 },
 "nbformat": 4,
 "nbformat_minor": 5
}
