{
 "cells": [
  {
   "cell_type": "markdown",
   "id": "fd575eaa",
   "metadata": {},
   "source": [
    "# Model Evaluation of a Naive Bayes Classification Model"
   ]
  },
  {
   "cell_type": "code",
   "execution_count": null,
   "id": "26f03241",
   "metadata": {},
   "outputs": [],
   "source": []
  }
 ],
 "metadata": {
  "language_info": {
   "name": "python"
  }
 },
 "nbformat": 4,
 "nbformat_minor": 5
}
