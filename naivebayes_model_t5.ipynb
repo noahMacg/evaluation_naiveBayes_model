{
 "cells": [
  {
   "cell_type": "markdown",
   "id": "fd575eaa",
   "metadata": {},
   "source": [
    "# Model Evaluation of a Naive Bayes Classification Model\n",
    "Noah MacGillivray | BIT-446 Assignment(T5) | Summer 2025  \n",
    "**Environment:** Ubuntu, VS Code"
   ]
  },
  {
   "cell_type": "code",
   "execution_count": null,
   "id": "26f03241",
   "metadata": {},
   "outputs": [],
   "source": []
  }
 ],
 "metadata": {
  "language_info": {
   "name": "python"
  }
 },
 "nbformat": 4,
 "nbformat_minor": 5
}
