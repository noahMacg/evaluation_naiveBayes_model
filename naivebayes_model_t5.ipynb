{
 "cells": [
  {
   "cell_type": "markdown",
   "id": "fd575eaa",
   "metadata": {},
   "source": [
    "# Model Evaluation of a Naive Bayes Classification Model\n",
    "Noah MacGillivray | BIT-446 Assignment(T5) | Summer 2025  \n",
    "**Environment:** Ubuntu, VS Code"
   ]
  },
  {
   "cell_type": "markdown",
   "id": "d88f2862",
   "metadata": {},
   "source": [
    "## Imports "
   ]
  },
  {
   "cell_type": "code",
   "execution_count": null,
   "id": "26f03241",
   "metadata": {},
   "outputs": [],
   "source": [
    "import pandas as pd\n",
    "import numpy as np\n",
    "import openpyxl\n",
    "import os \n",
    "import matplotlib as plt \n",
    "from sklearn.naive_bayes import GaussianNB, MultinomialNB, BernoulliNB\n",
    "from sklearn.model_selection import train_test_split\n",
    "from sklearn.metrics import accuracy_score, classification_report, confusion_matrix"
   ]
  },
  {
   "cell_type": "markdown",
   "id": "e0f1e7c0",
   "metadata": {},
   "source": [
    "## Data Import"
   ]
  },
  {
   "cell_type": "code",
   "execution_count": null,
   "id": "70d6cd1e",
   "metadata": {},
   "outputs": [],
   "source": [
    "failure_rate = pd.read_excel('your_file.xlsx', nrows=100)  # read first 100 rows\n"
   ]
  },
  {
   "cell_type": "markdown",
   "id": "f1991b38",
   "metadata": {},
   "source": []
  }
 ],
 "metadata": {
  "language_info": {
   "name": "python"
  }
 },
 "nbformat": 4,
 "nbformat_minor": 5
}
